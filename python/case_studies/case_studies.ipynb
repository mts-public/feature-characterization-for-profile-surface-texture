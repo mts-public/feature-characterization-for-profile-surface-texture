{
 "cells": [
  {
   "cell_type": "code",
   "execution_count": null,
   "id": "93e6f404-6653-4295-8d5c-b798d83a5387",
   "metadata": {},
   "outputs": [],
   "source": [
    "import numpy as np\n",
    "from scipy.io import loadmat\n",
    "from featurecharacterization2d import Watershed\n",
    "from featurecharacterization2d import plot_motif\n",
    "import matplotlib.pyplot as plt"
   ]
  },
  {
   "cell_type": "code",
   "execution_count": null,
   "id": "bd06323a",
   "metadata": {},
   "outputs": [],
   "source": [
    "z=loadmat('..\\..\\data\\profiles\\simple_sin_1_open_peak.mat')['z']\n",
    "dx=0.5\n",
    "watershed = Watershed(z, dx, \"D\", PT=\"Wolfprune\", TH=0)\n",
    "motifs = watershed.motifs()\n",
    "plot_motif(z, dx, motifs)\n",
    "plt.xlabel(\"profile length in mm\")\n",
    "plt.ylabel(\"profile height in μm\")"
   ]
  },
  {
   "cell_type": "code",
   "execution_count": null,
   "id": "b5491aec",
   "metadata": {},
   "outputs": [],
   "source": [
    "z=loadmat('..\\..\\data\\profiles\\sinus_04_zeros_04.mat')['z']\n",
    "watershed = Watershed(z, dx, \"D\", PT=\"None\")\n",
    "motifs = watershed.motifs()\n",
    "plot_motif(z, dx, motifs)\n",
    "plt.xlabel(\"profile length in mm\")\n",
    "plt.ylabel(\"profile height in μm\")"
   ]
  },
  {
   "cell_type": "code",
   "execution_count": null,
   "id": "371a977d",
   "metadata": {},
   "outputs": [],
   "source": [
    "z=loadmat('..\\..\\data\\profiles\\kuppen_taeler_4mm.mat')['z']\n",
    "watershed = Watershed(z, dx, \"D\", PT=\"None\")\n",
    "motifs = watershed.motifs()\n",
    "plot_motif(z, dx, motifs)\n",
    "plt.xlabel(\"profile length in mm\")\n",
    "plt.ylabel(\"profile height in μm\")"
   ]
  },
  {
   "cell_type": "code",
   "execution_count": null,
   "id": "03d923e4",
   "metadata": {},
   "outputs": [],
   "source": [
    "z=loadmat('..\\..\\data\\profiles\\Luftpresser_1_56_ak.mat')['z']\n",
    "watershed = Watershed(z, dx, \"D\", PT=\"Wolfprune\",TH=1)\n",
    "motifs = watershed.motifs()\n",
    "plot_motif(z, dx, motifs)\n",
    "plt.xlabel(\"profile length in mm\")\n",
    "plt.ylabel(\"profile height in μm\")"
   ]
  },
  {
   "cell_type": "code",
   "execution_count": null,
   "id": "5e72bb23",
   "metadata": {},
   "outputs": [],
   "source": [
    "z=loadmat('..\\..\\data\\profiles\\zeros_kuppen_taeler.mat')['z']\n",
    "watershed = Watershed(z, dx, \"D\", PT=\"None\")\n",
    "motifs = watershed.motifs()\n",
    "plot_motif(z, dx, motifs)\n",
    "plt.xlabel(\"profile length in mm\")\n",
    "plt.ylabel(\"profile height in μm\")"
   ]
  },
  {
   "cell_type": "code",
   "execution_count": null,
   "id": "28a58f83",
   "metadata": {},
   "outputs": [],
   "source": [
    "file_path = r'..\\..\\data\\profiles\\tstRSm_random.mat'\n",
    "z = loadmat(file_path)['z']\n",
    "watershed = Watershed(z, dx, \"D\", PT=\"None\")\n",
    "motifs = watershed.motifs()\n",
    "plot_motif(z, dx, motifs)\n",
    "plt.xlabel(\"profile length in mm\")\n",
    "plt.ylabel(\"profile height in μm\")"
   ]
  },
  {
   "cell_type": "code",
   "execution_count": null,
   "id": "77274076",
   "metadata": {},
   "outputs": [],
   "source": [
    "z = loadmat('..\\..\\data\\profiles\\sinus_04_sinus_04.mat')['z']\n",
    "watershed = Watershed(z, dx, \"D\", PT=\"None\")\n",
    "motifs = watershed.motifs()\n",
    "plot_motif(z, dx, motifs)\n",
    "plt.xlabel(\"profile length in mm\")\n",
    "plt.ylabel(\"profile height in μm\")"
   ]
  },
  {
   "cell_type": "code",
   "execution_count": null,
   "id": "64f867a8",
   "metadata": {},
   "outputs": [],
   "source": [
    "z=loadmat('..\\..\\data\\profiles\\Bu_1_56_ak.mat')['z']\n",
    "watershed = Watershed(z, dx, \"D\", PT=\"Wolfprune\", TH=5)\n",
    "motifs = watershed.motifs()\n",
    "plot_motif(z, dx, motifs)\n",
    "plt.xlabel(\"profile length in mm\")\n",
    "plt.ylabel(\"profile height in μm\")"
   ]
  }
 ],
 "metadata": {
  "kernelspec": {
   "display_name": "Python 3 (ipykernel)",
   "language": "python",
   "name": "python3"
  },
  "language_info": {
   "codemirror_mode": {
    "name": "ipython",
    "version": 3
   },
   "file_extension": ".py",
   "mimetype": "text/x-python",
   "name": "python",
   "nbconvert_exporter": "python",
   "pygments_lexer": "ipython3",
   "version": "3.11.8"
  }
 },
 "nbformat": 4,
 "nbformat_minor": 5
}

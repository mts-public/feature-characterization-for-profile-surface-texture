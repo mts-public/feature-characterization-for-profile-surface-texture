{
 "cells": [
  {
   "cell_type": "code",
   "execution_count": 1,
   "id": "93e6f404-6653-4295-8d5c-b798d83a5387",
   "metadata": {},
   "outputs": [],
   "source": [
    "import numpy as np\n",
    "from scipy.io import loadmat\n",
    "from featurecharacterization2d import Watershed\n",
    "from featurecharacterization2d import plot_motif\n",
    "import matplotlib.pyplot as plt"
   ]
  },
  {
   "cell_type": "code",
   "execution_count": 5,
   "id": "bd06323a",
   "metadata": {},
   "outputs": [
    {
     "data": {
      "text/plain": [
       "array([[-8.38337252],\n",
       "       [-8.0553584 ],\n",
       "       [-7.74556427],\n",
       "       ...,\n",
       "       [-7.60003349],\n",
       "       [-7.74419936],\n",
       "       [-7.90037524]])"
      ]
     },
     "execution_count": 5,
     "metadata": {},
     "output_type": "execute_result"
    }
   ],
   "source": [
    "z=loadmat('..\\..\\data\\profiles for case studies\\Bu_1_56_ak.mat')['z']"
   ]
  },
  {
   "cell_type": "code",
   "execution_count": 2,
   "id": "a0bbeef8-8607-4a35-a9a5-8c85bd0afe65",
   "metadata": {},
   "outputs": [],
   "source": [
    "z = np.array(\n",
    "    [\n",
    "        3.3,\n",
    "        2,\n",
    "        1,\n",
    "        5,\n",
    "        3.8,\n",
    "        4,\n",
    "        1.5,\n",
    "        1.5,\n",
    "        3.5,\n",
    "        2.5,\n",
    "        2,\n",
    "        -1,\n",
    "        0,\n",
    "        3,\n",
    "        1.2,\n",
    "        2,\n",
    "        -1.2,\n",
    "        -5,\n",
    "        -4,\n",
    "        -4.5,\n",
    "        -2,\n",
    "        -2.3,\n",
    "        1,\n",
    "        3,\n",
    "        3,\n",
    "        3,\n",
    "        4,\n",
    "        4.5,\n",
    "        4.5,\n",
    "        4,\n",
    "        1.5,\n",
    "        1.5,\n",
    "        3.5,\n",
    "        4,\n",
    "        9,\n",
    "        8,\n",
    "        -1,\n",
    "        -1,\n",
    "        -1,\n",
    "        -1,\n",
    "        7,\n",
    "        7,\n",
    "        7,\n",
    "        0,\n",
    "        0.5,\n",
    "        1,\n",
    "        5,\n",
    "        2,\n",
    "        6,\n",
    "        4.5,\n",
    "        0.5,\n",
    "        1,\n",
    "        2,\n",
    "        -1,\n",
    "        0,\n",
    "        3,\n",
    "        5.2,\n",
    "        5,\n",
    "        5.5,\n",
    "        4,\n",
    "        7\n",
    "    ]\n",
    ")\n",
    "z = z - np.mean(z)\n",
    "dx = 0.5"
   ]
  },
  {
   "cell_type": "code",
   "execution_count": 3,
   "id": "21e46c96-8338-450d-8bbc-2d8654ccade4",
   "metadata": {},
   "outputs": [],
   "source": [
    "watershed = Watershed(z, dx, \"D\", PT=\"Wolfprune\", TH=4.1)\n",
    "motifs = watershed.motifs()"
   ]
  },
  {
   "cell_type": "code",
   "execution_count": 4,
   "id": "bfb7c23b-6cc5-4ff6-a67a-1a2477231a1d",
   "metadata": {},
   "outputs": [
    {
     "data": {
      "text/plain": [
       "array([17. , 37.5, 43. , 53. ])"
      ]
     },
     "execution_count": 4,
     "metadata": {},
     "output_type": "execute_result"
    }
   ],
   "source": [
    "plot_motif(z, dx, motifs)\n",
    "plt.xlabel(\"Position in μm\")\n",
    "plt.ylabel(\"Topography height in μm\")"
   ]
  }
 ],
 "metadata": {
  "kernelspec": {
   "display_name": "Python 3 (ipykernel)",
   "language": "python",
   "name": "python3"
  },
  "language_info": {
   "codemirror_mode": {
    "name": "ipython",
    "version": 3
   },
   "file_extension": ".py",
   "mimetype": "text/x-python",
   "name": "python",
   "nbconvert_exporter": "python",
   "pygments_lexer": "ipython3",
   "version": "3.11.7"
  }
 },
 "nbformat": 4,
 "nbformat_minor": 5
}

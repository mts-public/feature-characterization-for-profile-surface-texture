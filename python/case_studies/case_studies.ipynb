{
 "cells": [
  {
   "cell_type": "code",
   "execution_count": 1,
   "id": "93e6f404-6653-4295-8d5c-b798d83a5387",
   "metadata": {},
   "outputs": [],
   "source": [
    "import numpy as np\n",
    "\n",
    "from featurecharacterization2d import Watershed\n",
    "from featurecharacterization2d import FeatureAttribute"
   ]
  },
  {
   "cell_type": "code",
   "execution_count": 2,
   "id": "a0bbeef8-8607-4a35-a9a5-8c85bd0afe65",
   "metadata": {},
   "outputs": [],
   "source": [
    "z = np.array(\n",
    "    [\n",
    "        3.3,\n",
    "        2,\n",
    "        1,\n",
    "        5,\n",
    "        3.8,\n",
    "        4,\n",
    "        1.5,\n",
    "        1.5,\n",
    "        3.5,\n",
    "        2.5,\n",
    "        2,\n",
    "        -1,\n",
    "        0,\n",
    "        3,\n",
    "        1.2,\n",
    "        2,\n",
    "        -1.2,\n",
    "        -5,\n",
    "        -4,\n",
    "        -4.5,\n",
    "        -2,\n",
    "        -2.3,\n",
    "        1,\n",
    "        3,\n",
    "        3,\n",
    "        3,\n",
    "        4,\n",
    "        4.5,\n",
    "        4.5,\n",
    "        4,\n",
    "        1.5,\n",
    "        1.5,\n",
    "        3.5,\n",
    "        4,\n",
    "        9,\n",
    "        8,\n",
    "        -1,\n",
    "        -1,\n",
    "        -1,\n",
    "        -1,\n",
    "        7,\n",
    "        7,\n",
    "        7,\n",
    "        0,\n",
    "        0.5,\n",
    "        1,\n",
    "        5,\n",
    "        2,\n",
    "        6,\n",
    "        4.5,\n",
    "        0.5,\n",
    "        1,\n",
    "        2,\n",
    "        -1,\n",
    "        0,\n",
    "        3,\n",
    "        5.2,\n",
    "        5,\n",
    "        5.5,\n",
    "        4,\n",
    "        7\n",
    "    ]\n",
    ")\n",
    "z = z - np.mean(z)\n",
    "dx = 0.5"
   ]
  },
  {
   "cell_type": "code",
   "execution_count": 3,
   "id": "21e46c96-8338-450d-8bbc-2d8654ccade4",
   "metadata": {},
   "outputs": [],
   "source": [
    "watershed = Watershed(z, dx, \"D\", PT=\"Wolfprune\", TH=4.1)\n",
    "motifs = watershed.motifs()"
   ]
  },
  {
   "cell_type": "code",
   "execution_count": 4,
   "id": "bfb7c23b-6cc5-4ff6-a67a-1a2477231a1d",
   "metadata": {},
   "outputs": [
    {
     "data": {
      "text/plain": [
       "array([17. , 37.5, 43. , 53. ])"
      ]
     },
     "execution_count": 4,
     "metadata": {},
     "output_type": "execute_result"
    }
   ],
   "source": [
    "motifs.iv"
   ]
  },
  {
   "cell_type": "code",
   "execution_count": 5,
   "id": "98d6b1e4-d7bd-48d4-8ca0-cfc21b1e4952",
   "metadata": {},
   "outputs": [
    {
     "data": {
      "text/plain": [
       "array([ 3., 41., 48., 58.])"
      ]
     },
     "execution_count": 5,
     "metadata": {},
     "output_type": "execute_result"
    }
   ],
   "source": [
    "motifs.ilp"
   ]
  },
  {
   "cell_type": "code",
   "execution_count": 6,
   "id": "4e09c3fe-ff10-4050-94ac-e6cc5732e8ca",
   "metadata": {},
   "outputs": [
    {
     "data": {
      "text/plain": [
       "[[33.2], [35.111111111111114], [42.142857142857146], [48.333333333333336]]"
      ]
     },
     "execution_count": 6,
     "metadata": {},
     "output_type": "execute_result"
    }
   ],
   "source": [
    "motifs.ihi"
   ]
  }
 ],
 "metadata": {
  "kernelspec": {
   "display_name": "Python 3 (ipykernel)",
   "language": "python",
   "name": "python3"
  },
  "language_info": {
   "codemirror_mode": {
    "name": "ipython",
    "version": 3
   },
   "file_extension": ".py",
   "mimetype": "text/x-python",
   "name": "python",
   "nbconvert_exporter": "python",
   "pygments_lexer": "ipython3",
   "version": "3.11.7"
  }
 },
 "nbformat": 4,
 "nbformat_minor": 5
}
